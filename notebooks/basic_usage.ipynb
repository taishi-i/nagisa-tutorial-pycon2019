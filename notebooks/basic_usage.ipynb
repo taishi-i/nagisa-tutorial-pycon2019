{
  "nbformat": 4,
  "nbformat_minor": 0,
  "metadata": {
    "colab": {
      "name": "basic_usage.ipynb",
      "version": "0.3.2",
      "provenance": []
    },
    "kernelspec": {
      "name": "python3",
      "display_name": "Python 3"
    }
  },
  "cells": [
    {
      "cell_type": "code",
      "metadata": {
        "id": "7Or7sOfZ8KHl",
        "colab_type": "code",
        "outputId": "a493c188-14b8-4a75-ed85-668cefee5f84",
        "colab": {
          "base_uri": "https://localhost:8080/",
          "height": 122
        }
      },
      "source": [
        "!pip install nagisa"
      ],
      "execution_count": 1,
      "outputs": [
        {
          "output_type": "stream",
          "text": [
            "Requirement already satisfied: nagisa in /usr/local/lib/python3.6/dist-packages (0.2.4)\n",
            "Requirement already satisfied: DyNet in /usr/local/lib/python3.6/dist-packages (from nagisa) (2.1)\n",
            "Requirement already satisfied: numpy in /usr/local/lib/python3.6/dist-packages (from nagisa) (1.16.5)\n",
            "Requirement already satisfied: six in /usr/local/lib/python3.6/dist-packages (from nagisa) (1.12.0)\n",
            "Requirement already satisfied: cython in /usr/local/lib/python3.6/dist-packages (from DyNet->nagisa) (0.29.13)\n"
          ],
          "name": "stdout"
        }
      ]
    },
    {
      "cell_type": "code",
      "metadata": {
        "id": "yt1yM3nn8bTB",
        "colab_type": "code",
        "outputId": "aab4b762-e746-4fea-eca7-18edbc417420",
        "colab": {
          "base_uri": "https://localhost:8080/",
          "height": 68
        }
      },
      "source": [
        "# シンプルな単語分割と品詞タグ付け機能を提供\n",
        "import nagisa                                                           \n",
        "                                                                        \n",
        "text = 'Pythonで簡単に使えるツールです'                                 \n",
        "tokens = nagisa.tagging(text)                                           \n",
        "                                                                        \n",
        "print(tokens)                                                           \n",
        "print(tokens.words)                                                     \n",
        "print(tokens.postags)"
      ],
      "execution_count": 2,
      "outputs": [
        {
          "output_type": "stream",
          "text": [
            "Python/名詞 で/助詞 簡単/形状詞 に/助動詞 使える/動詞 ツール/名詞 です/助動詞\n",
            "['Python', 'で', '簡単', 'に', '使える', 'ツール', 'です']\n",
            "['名詞', '助詞', '形状詞', '助動詞', '動詞', '名詞', '助動詞']\n"
          ],
          "name": "stdout"
        }
      ]
    },
    {
      "cell_type": "code",
      "metadata": {
        "id": "PK40Oeu18xgi",
        "colab_type": "code",
        "outputId": "b34d1415-664d-4b8d-805a-d65b3a475346",
        "colab": {
          "base_uri": "https://localhost:8080/",
          "height": 34
        }
      },
      "source": [
        "# 品詞による出力単語のフィルタリングが可能\n",
        "import nagisa                                                           \n",
        "                                                                        \n",
        "text = 'Pythonで簡単に使えるツールです'                                 \n",
        "tokens = nagisa.extract(                                                \n",
        "    text, extract_postags=['名詞']                                      \n",
        ")                                                                       \n",
        "print(tokens)"
      ],
      "execution_count": 3,
      "outputs": [
        {
          "output_type": "stream",
          "text": [
            "Python/名詞 ツール/名詞\n"
          ],
          "name": "stdout"
        }
      ]
    },
    {
      "cell_type": "code",
      "metadata": {
        "id": "FPdEndUN9p8U",
        "colab_type": "code",
        "colab": {
          "base_uri": "https://localhost:8080/",
          "height": 34
        },
        "outputId": "7d9b0cfe-5280-48c2-eb04-40945c5b40a8"
      },
      "source": [
        "# 品詞による出力単語のフィルタリングが可能\n",
        "import nagisa                                                           \n",
        "                                                                        \n",
        "text = 'Pythonで簡単に使えるツールです'                                 \n",
        "tokens = nagisa.filter(                                                 \n",
        "    text, filter_postags=['助詞', '助動詞']                             \n",
        ")                                                                       \n",
        "print(tokens) "
      ],
      "execution_count": 4,
      "outputs": [
        {
          "output_type": "stream",
          "text": [
            "Python/名詞 簡単/形状詞 使える/動詞 ツール/名詞\n"
          ],
          "name": "stdout"
        }
      ]
    },
    {
      "cell_type": "code",
      "metadata": {
        "id": "sLf0U4IA_3bV",
        "colab_type": "code",
        "colab": {
          "base_uri": "https://localhost:8080/",
          "height": 51
        },
        "outputId": "37859802-7077-452d-b390-12104a56253d"
      },
      "source": [
        "# ユーザー辞書の追加が容易\n",
        "import nagisa                                                           \n",
        "                                                                        \n",
        "text = \"3月に見た「3月のライオン」\"                                     \n",
        "print(nagisa.tagging(text))                                             \n",
        "                                                                        \n",
        "new_tagger = nagisa.Tagger(                                             \n",
        "    single_word_list=['3月のライオン']                                  \n",
        ")                                                                       \n",
        "print(new_tagger.tagging(text))"
      ],
      "execution_count": 5,
      "outputs": [
        {
          "output_type": "stream",
          "text": [
            "3/名詞 月/名詞 に/助詞 見/動詞 た/助動詞 「/補助記号 3/名詞 月/名詞 の/助詞 ライオン/名詞 」/補助記号\n",
            "3/名詞 月/名詞 に/助詞 見/動詞 た/助動詞 「/補助記号 3月のライオン/名詞 」/補助記号\n"
          ],
          "name": "stdout"
        }
      ]
    },
    {
      "cell_type": "code",
      "metadata": {
        "id": "jcyDuPBxAUfp",
        "colab_type": "code",
        "colab": {
          "base_uri": "https://localhost:8080/",
          "height": 34
        },
        "outputId": "2502d716-72cd-441a-db6c-f48db83950bf"
      },
      "source": [
        "# 顔文字やURLに対して頑健な解析\n",
        "import nagisa                                                           \n",
        "                                                                        \n",
        "text = 'https://github.com/taishi-i/nagisaでコードを公開中(๑¯ω¯๑)'         \n",
        "tokens = nagisa.tagging(text)                                           \n",
        "print(tokens)"
      ],
      "execution_count": 6,
      "outputs": [
        {
          "output_type": "stream",
          "text": [
            "https://github.com/taishi-i/nagisa/URL で/助詞 コード/名詞 を/助詞 公開/名詞 中/接尾辞 (๑　̄ω　̄๑)/補助記号\n"
          ],
          "name": "stdout"
        }
      ]
    }
  ]
}